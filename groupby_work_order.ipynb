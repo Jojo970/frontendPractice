{
 "cells": [
  {
   "cell_type": "code",
   "execution_count": null,
   "metadata": {},
   "outputs": [],
   "source": []
  }
 ],
 "metadata": {
  "kernelspec": {
   "display_name": "Python 3.10.2 64-bit",
   "language": "python",
   "name": "python3"
  },
  "language_info": {
   "name": "python",
   "version": "3.10.2"
  },
  "orig_nbformat": 4,
  "vscode": {
   "interpreter": {
    "hash": "7eef35aef83969e0abb752b419052fee0b2139949d2f2d93c3f77ae5b394c938"
   }
  }
 },
 "nbformat": 4,
 "nbformat_minor": 2
}
